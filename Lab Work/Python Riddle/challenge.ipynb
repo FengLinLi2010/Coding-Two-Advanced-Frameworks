{
 "cells": [
  {
   "cell_type": "code",
   "execution_count": null,
   "id": "7439600e",
   "metadata": {},
   "outputs": [],
   "source": [
    "#CHALLENGE:\n",
    "\n",
    "[0.54670313 0.53260812 0.12164592 0.86736192 0.58592254 0.26333473\n",
    " 0.20134039 0.63997188 0.44165999 0.3229993  0.41488953 0.66932199\n",
    " 0.81488626 0.27069557]\n",
    "[0.73509803 0.8496084  0.72473754 0.54244827 0.38570052 0.24531299\n",
    " 0.16069517 0.23139293 0.20085126]\n",
    "[0.04148163 0.83418127 0.41470991]\n",
    "[0.32758804 0.97039927 0.49942758 0.58472336 0.10097863]\n",
    "\n",
    "#CLUE:Quantity is also a language"
   ]
  },
  {
   "cell_type": "code",
   "execution_count": 59,
   "id": "90a768b3",
   "metadata": {},
   "outputs": [
    {
     "data": {
      "text/plain": [
       "array([0.90177678, 0.53372591, 0.20282289, 0.77359869, 0.02820519,\n",
       "       0.71353988, 0.08887237, 0.67105506, 0.45602793, 0.67576101,\n",
       "       0.02777444, 0.91417028, 0.2717547 , 0.52852237])"
      ]
     },
     "execution_count": 59,
     "metadata": {},
     "output_type": "execute_result"
    }
   ],
   "source": [
    "#process of generate challenge:\n",
    "import numpy as np\n",
    "\n",
    "a = np.random.rand(14)\n",
    "a"
   ]
  },
  {
   "cell_type": "code",
   "execution_count": 60,
   "id": "3cb564e9",
   "metadata": {},
   "outputs": [
    {
     "data": {
      "text/plain": [
       "array([0.06498421, 0.2355226 , 0.17657006, 0.19370144, 0.74116738,\n",
       "       0.64272167, 0.31535175, 0.72682162, 0.69566619])"
      ]
     },
     "execution_count": 60,
     "metadata": {},
     "output_type": "execute_result"
    }
   ],
   "source": [
    "a = np.random.rand(9)\n",
    "a"
   ]
  },
  {
   "cell_type": "code",
   "execution_count": 61,
   "id": "ea1ec59d",
   "metadata": {},
   "outputs": [
    {
     "data": {
      "text/plain": [
       "array([0.36290595, 0.65210627, 0.09897441])"
      ]
     },
     "execution_count": 61,
     "metadata": {},
     "output_type": "execute_result"
    }
   ],
   "source": [
    "a = np.random.rand(3)\n",
    "a"
   ]
  },
  {
   "cell_type": "code",
   "execution_count": 62,
   "id": "a8bbc757",
   "metadata": {},
   "outputs": [
    {
     "data": {
      "text/plain": [
       "array([0.25058376, 0.34692649, 0.96929486, 0.02156848, 0.33560981])"
      ]
     },
     "execution_count": 62,
     "metadata": {},
     "output_type": "execute_result"
    }
   ],
   "source": [
    "a = np.random.rand(5)\n",
    "a"
   ]
  },
  {
   "cell_type": "code",
   "execution_count": 66,
   "id": "5b7a36b4",
   "metadata": {},
   "outputs": [
    {
     "name": "stdout",
     "output_type": "stream",
     "text": [
      "14 9 3 5\n"
     ]
    }
   ],
   "source": [
    "#solution part 1: Gets the number of elements in each array\n",
    "import numpy as np\n",
    "a1 = ([0.90177678, 0.53372591, 0.20282289, 0.77359869, 0.02820519,\n",
    "       0.71353988, 0.08887237, 0.67105506, 0.45602793, 0.67576101,\n",
    "       0.02777444, 0.91417028, 0.2717547 , 0.52852237])\n",
    "a2 = ([0.06498421, 0.2355226 , 0.17657006, 0.19370144, 0.74116738,\n",
    "       0.64272167, 0.31535175, 0.72682162, 0.69566619])\n",
    "a3 = ([0.36290595, 0.65210627, 0.09897441])\n",
    "a4 = ([0.25058376, 0.34692649, 0.96929486, 0.02156848, 0.33560981])\n",
    "print(len(a1),len(a2),len(a3),len(a4))"
   ]
  },
  {
   "cell_type": "code",
   "execution_count": 79,
   "id": "1a4845e2",
   "metadata": {},
   "outputs": [
    {
     "name": "stdout",
     "output_type": "stream",
     "text": [
      "n\n",
      "i\n",
      "c\n",
      "e\n"
     ]
    }
   ],
   "source": [
    "#solution part 2 : convert the number to the letter!\n",
    "array = [14,9,3,5]\n",
    "for i in array:\n",
    "    letter = chr(ord('`')+i)\n",
    "    print (letter)\n"
   ]
  },
  {
   "cell_type": "code",
   "execution_count": null,
   "id": "e357d64f",
   "metadata": {},
   "outputs": [],
   "source": [
    "#so,the answer is \"nice\"!"
   ]
  },
  {
   "cell_type": "code",
   "execution_count": null,
   "id": "676734e3",
   "metadata": {},
   "outputs": [],
   "source": []
  },
  {
   "cell_type": "code",
   "execution_count": null,
   "id": "b01b8f5b",
   "metadata": {},
   "outputs": [],
   "source": []
  },
  {
   "cell_type": "code",
   "execution_count": null,
   "id": "496e9c01",
   "metadata": {},
   "outputs": [],
   "source": []
  },
  {
   "cell_type": "code",
   "execution_count": null,
   "id": "55ab38e6",
   "metadata": {},
   "outputs": [],
   "source": []
  },
  {
   "cell_type": "code",
   "execution_count": null,
   "id": "51871f82",
   "metadata": {},
   "outputs": [],
   "source": []
  }
 ],
 "metadata": {
  "kernelspec": {
   "display_name": "Python 3 (ipykernel)",
   "language": "python",
   "name": "python3"
  },
  "language_info": {
   "codemirror_mode": {
    "name": "ipython",
    "version": 3
   },
   "file_extension": ".py",
   "mimetype": "text/x-python",
   "name": "python",
   "nbconvert_exporter": "python",
   "pygments_lexer": "ipython3",
   "version": "3.9.7"
  }
 },
 "nbformat": 4,
 "nbformat_minor": 5
}
